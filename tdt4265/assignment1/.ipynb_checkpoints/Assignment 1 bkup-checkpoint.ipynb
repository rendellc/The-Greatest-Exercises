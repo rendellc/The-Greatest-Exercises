{
 "cells": [
  {
   "cell_type": "markdown",
   "metadata": {},
   "source": [
    "# Task 1\n",
    "\n",
    "## Task 1.1: Derive the gradient for Logistic Regression\n",
    "\n",
    "Using $-E^n(w) = t^n \\ln(y^n) + (1 - t^n)\\ln(1 - y^n)$, we take it's derivative with respect to the $j$'th weight.\n",
    "$$\n",
    "-\\frac{\\partial E^n}{\\partial w_j} = \\frac{\\partial}{\\partial w_j}\\left( t^n \\ln(y^n)\\right) \n",
    "    + \\frac{\\partial}{\\partial w_j}\\left( (1 - t^n) \\ln(1 - y^n) \\right) \\\\\n",
    "    = t^n\\frac{1}{y^n}\\frac{\\partial y^n}{\\partial w_j} + (1-t^n)\\frac{1}{1-y^n}\\frac{\\partial (1-y^n)}{\\partial w_j} \\\\\n",
    "    = t^n\\frac{1}{y^n}\\frac{\\partial y^n}{\\partial w_j} - (1-t^n)\\frac{1}{1-y^n}\\frac{\\partial y^n}{\\partial w_j}\n",
    "$$\n",
    "\n",
    "Rewriting the hint in the assignment\n",
    "$$\n",
    "\\frac{\\partial y^n}{\\partial w_j} = \\frac{\\partial g^n_w(x)}{\\partial w_j} = x^n_j g_w^n (1 - g^n_w) = x^n_j y^n (1 - y^n)\n",
    "$$\n",
    "\n",
    "Inserting this into the equation above gives\n",
    "$$\n",
    "-\\frac{\\partial E^n}{\\partial w_j} \n",
    "= t^n\\frac{1}{y^n}\\frac{\\partial y^n}{\\partial w_j} - (1-t^n)\\frac{1}{1-y^n}\\frac{\\partial y^n}{\\partial w_j} \\\\\n",
    "= t^n\\frac{1}{y^n}x^n_j y^n (1 - y^n) - (1-t^n)\\frac{1}{1-y^n}x^n_j y^n (1 - y^n) \\\\\n",
    "= t^n x^n_j - t^n x^n_j y^n - x^n_j y^n +t^n x^n_j y^n \\\\\n",
    "= (t^n - y^n) x^n_j\n",
    "$$"
   ]
  },
  {
   "cell_type": "markdown",
   "metadata": {},
   "source": [
    "## Task 1.2: Derive the gradient for Softmax Regression"
   ]
  },
  {
   "cell_type": "markdown",
   "metadata": {},
   "source": [
    "# Task 2"
   ]
  },
  {
   "cell_type": "markdown",
   "metadata": {},
   "source": [
    "## Task 2.1: Logistic Regression through gradient descent"
   ]
  },
  {
   "cell_type": "markdown",
   "metadata": {},
   "source": [
    "#### Load data and Preprocessing"
   ]
  },
  {
   "cell_type": "code",
   "execution_count": 51,
   "metadata": {},
   "outputs": [
    {
     "name": "stdout",
     "output_type": "stream",
     "text": [
      "(3000, 785) (3000,)\n",
      "(2000, 785) (2000,)\n",
      "Label: 2\n"
     ]
    },
    {
     "data": {
      "image/png": "[encoded data removed]",
      "text/plain": [
       "<Figure size 432x288 with 1 Axes>"
      ]
     },
     "metadata": {
      "needs_background": "light"
     },
     "output_type": "display_data"
    }
   ],
   "source": [
    "import mnist\n",
    "import numpy as np\n",
    "import random\n",
    "import matplotlib.pyplot as plt\n",
    "%matplotlib inline\n",
    "\n",
    "import time\n",
    "\n",
    "try:\n",
    "    X_train, Y_train, X_test, Y_test = mnist.load()\n",
    "except FileNotFoundError:\n",
    "    mnist.init()\n",
    "    X_train, Y_train, X_test, Y_test = mnist.load()\n",
    "\n",
    "N_train = 3000\n",
    "N_test = 2000\n",
    "\n",
    "def add_bias_term(X):\n",
    "    (n,d) = X.shape\n",
    "    return np.hstack( (X, np.ones((n,1)) ) )\n",
    "\n",
    "def category_filter(X, Y, yes, no):\n",
    "    assert yes != no\n",
    "    mask = np.any([[Y==yes],[Y==no]], axis=0)[0]\n",
    "    Y[Y==yes] = 1\n",
    "    Y[Y==no] = 0\n",
    "    \n",
    "    X = X[mask,...]\n",
    "    Y = Y[mask,...]\n",
    "    \n",
    "    trues = len([b for b in mask if b])\n",
    "    assert trues == len(X)\n",
    "    assert trues == len(Y)\n",
    "    return X,Y\n",
    "\n",
    "def do_preprocessing(X,Y,limit=None, limit_method='random'):\n",
    "    assert len(X) == len(Y)\n",
    "    X = add_bias_term(X)\n",
    "    X,Y = category_filter(X,Y,yes=2,no=3)\n",
    "    if limit is not None:\n",
    "        limit = min(limit, len(X))\n",
    "        if limit_method == 'random':\n",
    "            mask = random.sample(range(len(X)), limit)\n",
    "            X = X[mask]\n",
    "            Y = Y[mask]\n",
    "        elif limit_method == 'first':\n",
    "            X = X[:limit]\n",
    "            Y = Y[:limit]\n",
    "        elif limit_method == 'last':\n",
    "            X = X[~limit+1:]\n",
    "            Y = Y[~limit+1:]\n",
    "        else:\n",
    "            raise ValueError(limit_method + \" is not a valid limit method\")\n",
    "        \n",
    "    \n",
    "    X = X/256.0\n",
    "    \n",
    "    print(X.shape,Y.shape)\n",
    "    return X, Y\n",
    "\n",
    "X_train, Y_train = do_preprocessing(X_train,Y_train, limit=N_train, limit_method='first')\n",
    "X_test, Y_test = do_preprocessing(X_test,Y_test,limit=N_test, limit_method='last')\n",
    "\n",
    "# ------ manual check ------\n",
    "checkimage = np.reshape(X_test[0][:~0], (28,28))\n",
    "checklabel = 2 if Y_test[0]==1 else 3\n",
    "plt.imshow(checkimage)\n",
    "print(\"Label:\", checklabel)"
   ]
  },
  {
   "cell_type": "markdown",
   "metadata": {},
   "source": [
    "#### Training"
   ]
  },
  {
   "cell_type": "code",
   "execution_count": 52,
   "metadata": {
    "scrolled": true
   },
   "outputs": [
    {
     "name": "stdout",
     "output_type": "stream",
     "text": [
      "Batch size: 150\n",
      "Epoch    10 complete: Training loss 0.069, Validation loss 0.157, Test loss 0.074, alpha (% of initial) 52.6316%\n",
      "Epoch    20 complete: Training loss 0.061, Validation loss 0.149, Test loss 0.075, alpha (% of initial) 34.4828%\n",
      "Epoch    30 complete: Training loss 0.058, Validation loss 0.148, Test loss 0.075, alpha (% of initial) 25.6410%\n",
      "Epoch    40 complete: Training loss 0.056, Validation loss 0.148, Test loss 0.076, alpha (% of initial) 20.4082%\n",
      "Early stop at epoch 40\n",
      "------ Training results ------\n",
      "Train loss: 0.0558321521066102\n",
      "Validation loss: 0.14772128082650077\n",
      "Test loss: 0.07578299603489537\n"
     ]
    },
    {
     "data": {
      "image/png": "[encoded data removed]",
      "text/plain": [
       "<Figure size 432x288 with 1 Axes>"
      ]
     },
     "metadata": {
      "needs_background": "light"
     },
     "output_type": "display_data"
    }
   ],
   "source": [
    "N_batches = 20\n",
    "max_epochs = 50000\n",
    "\n",
    "T_anneal = 10\n",
    "alpha_initial = 0.01\n",
    "use_annealing_learning_rate = True\n",
    "early_stop_increase_length = 5\n",
    "\n",
    "def sigmoid(z):\n",
    "    return 1.0/(1 + np.exp(-z))\n",
    "\n",
    "def cross_entropy_loss(target, output):\n",
    "    assert target.shape == output.shape\n",
    "    N = len(target)\n",
    "    assert N > 0\n",
    "    E = -(np.dot(target,np.log(output)) + np.dot(1-target, np.log(1-output)))/N\n",
    "    assert E >= 0, \"{0} is not >= 0,\".format(E)\n",
    "    return E\n",
    "\n",
    "def logistic_regression_gradient(data_series, target, output):\n",
    "    assert target.shape == output.shape, \\\n",
    "        \"target.shape={0}, output.shape={1}\".format(target.shape, output.shape)\n",
    "    assert data_series.shape[1] == target.shape[0]\n",
    "    \n",
    "    return np.dot(data_series, output - target)\n",
    "\n",
    "def network_output(data_series,weights):\n",
    "    (n,d) = data_series.shape\n",
    "    assert d == weights.shape[0], \\\n",
    "        \"mismatched dimensions: data_series.shape={0}, weights.shape={1}\".format(data_series.shape, weights.shape)\n",
    "    #print(\"presigmoid:\", np.dot(data_series, weights))\n",
    "    return sigmoid(np.dot(data_series, weights))\n",
    "\n",
    "def predict_from_output(output):\n",
    "    mask = output >= 0.5\n",
    "    return np.where(mask, np.ones_like(mask), np.zeros_like(mask))\n",
    "\n",
    "def predict_from_input(X, weights):\n",
    "    return predict_from_output(network_output(X,weights))\n",
    "\n",
    "def compute_cross_entropy_loss(X, Y, weights):\n",
    "    Y_network = network_output(X, weights)\n",
    "    return cross_entropy_loss(Y, Y_network)\n",
    "\n",
    "def compute_batched_cross_entropy_loss(X_batches, Y_batches, weights):\n",
    "    assert (X_batches.shape[0] == Y_batches.shape[0]) and (X_batches.shape[1] == Y_batches.shape[1]), \\\n",
    "        \"Dimension mismatch for X_batches {0} and Y_batches {1}\".format(X_batches.shape, Y_batches.shape)\n",
    "    \n",
    "    loss = sum([compute_cross_entropy_loss(X, Y, weights) for (X, Y) in zip(X_batches, Y_batches)])\n",
    "    \n",
    "    return loss/len(X_batches)\n",
    "\n",
    "\n",
    "def compute_percentage_correct(Y_correct, Y_predict):\n",
    "    assert Y_correct.shape == Y_predict.shape\n",
    "    #predictions = predict_from_output(Y_output)\n",
    "    correct = Y_correct == Y_predict\n",
    "    return np.count_nonzero(correct)/len(correct)\n",
    "\n",
    "def compute_batched_percentage_correct(X_batches, weights, Y_correct_batches):\n",
    "    assert len(X_batches) == len(Y_correct_batches)\n",
    "    percentage_correct = 0\n",
    "    for (X,Y) in zip(X_batches, Y_correct_batches):\n",
    "        Y_predict = predict_from_input(X, weights)\n",
    "        percentage_correct += compute_percentage_correct(Y, Y_predict)\n",
    "    \n",
    "    return percentage_correct/len(X_batches)\n",
    "\n",
    "\n",
    "assert N_train % N_batches == 0, \"N_batches {0} does not divide N_train {1}\".format(N_batches, N_train)\n",
    "\n",
    "batch_size = int(N_train/N_batches)\n",
    "print(\"Batch size:\", batch_size)\n",
    "X_batches = np.array(np.split(X_train, N_batches))\n",
    "Y_batches = np.array(np.split(Y_train, N_batches))\n",
    "\n",
    "# Split into training and validation set\n",
    "X_train_batches, X_validate_batches = X_batches[:~1], X_batches[~1:]\n",
    "Y_train_batches, Y_validate_batches = Y_batches[:~1], Y_batches[~1:]\n",
    "\n",
    "w_dim = X_train.shape[1]\n",
    "weights = np.zeros(w_dim)\n",
    "\n",
    "train_loss = []\n",
    "validate_loss = []\n",
    "test_loss = []\n",
    "train_percentage_correct = []\n",
    "validate_percentage_correct = []\n",
    "test_percentage_correct = []\n",
    "\n",
    "best_validation_weights = [float('inf'), weights]\n",
    "epoch = 1\n",
    "while epoch < max_epochs:\n",
    "    t = epoch - 1\n",
    "    if use_annealing_learning_rate:\n",
    "        alpha = alpha_initial/(1 + t/T_anneal)\n",
    "    else:\n",
    "        alpha = alpha_initial\n",
    "    \n",
    "    # Feed forward and backpropagation\n",
    "    for (X,Y) in zip(X_train_batches, Y_train_batches):\n",
    "        Y_predict = network_output(X, weights)\n",
    "        gradient = logistic_regression_gradient(np.transpose(X), Y, Y_predict)\n",
    "        weights -= alpha*gradient\n",
    "    \n",
    "    # Loss calculations\n",
    "    train_loss.append(compute_batched_cross_entropy_loss(X_train_batches, Y_train_batches, weights))\n",
    "    validate_loss.append(compute_batched_cross_entropy_loss(X_validate_batches, Y_validate_batches, weights))\n",
    "    test_loss.append(compute_cross_entropy_loss(X_test, Y_test, weights))\n",
    "    \n",
    "    # Correct calculations\n",
    "    train_percentage_correct.append(compute_batched_percentage_correct(X_train_batches, weights, Y_train_batches))\n",
    "    validate_percentage_correct.append(compute_batched_percentage_correct(X_validate_batches, weights, Y_validate_batches))\n",
    "    test_percentage_correct.append(compute_percentage_correct(Y_test, predict_from_input(X_test, weights)))\n",
    "    \n",
    "    \n",
    "    if validate_loss[~0] < best_validation_weights[0]:\n",
    "        best_validation_weights[0] = validate_loss[~0]\n",
    "        best_validation_weights[1][:] = weights\n",
    "    \n",
    "    if epoch % 10 == 0:\n",
    "        status_str = \"Epoch {:5d} complete: \".format(epoch)\n",
    "        status_str += \"Training loss {:.3f}, \".format(train_loss[~0])\n",
    "        status_str += \"Validation loss {:.3f}, \".format(validate_loss[~0])\n",
    "        status_str += \"Test loss {:.3f}, \".format(test_loss[~0]) \n",
    "        status_str += \"alpha (% of initial) {:.4%}\".format(alpha/alpha_initial)\n",
    "        print(status_str)\n",
    "    \n",
    "    if len(validate_loss) >= early_stop_increase_length:\n",
    "        validate_tail_diff = np.diff(validate_loss[~early_stop_increase_length:])\n",
    "        validate_loss_increase = (validate_tail_diff >= 0.0).all()\n",
    "        \n",
    "        if validate_loss_increase:\n",
    "            print(\"Early stop at epoch {}\".format(epoch))\n",
    "            break\n",
    "    \n",
    "    assert len(train_loss) == len(validate_loss) and len(validate_loss) == len(test_loss) and \\\n",
    "        len(train_percentage_correct) == len(train_loss) and len(validate_percentage_correct) == len(train_loss) and \\\n",
    "        len(test_percentage_correct) == len(train_percentage_correct)\n",
    "    epoch += 1\n",
    "\n",
    "print(\"------ Training results ------\")\n",
    "weights[:] = best_validation_weights[1]\n",
    "print(\"Train loss:\", compute_batched_cross_entropy_loss(X_train_batches, Y_train_batches, weights))\n",
    "print(\"Validation loss:\", compute_batched_cross_entropy_loss(X_validate_batches, Y_validate_batches, weights))\n",
    "print(\"Test loss:\", compute_cross_entropy_loss(X_test, Y_test, weights))\n",
    "\n",
    "\n",
    "\n",
    "\n",
    "# Analysis\n",
    "t = N_batches*np.array(range(len(train_loss)))\n",
    "plt.plot(t, train_loss, label=\"Training loss\")\n",
    "plt.plot(t, validate_loss, label=\"Validation loss\")\n",
    "plt.plot(t, test_loss, label=\"Test loss\")\n",
    "plt.ylabel(\"Cross Entropy Loss\")\n",
    "plt.xlabel(\"Iteration\")\n",
    "plt.legend()\n",
    "plt.show()"
   ]
  },
  {
   "cell_type": "markdown",
   "metadata": {},
   "source": [
    "#### a\n",
    "\n",
    "##### Vectorization of the update law\n",
    "The code uses a vectorized version of the gradient descent update law. To arrive at it we define $T = \\left( t^1, t^2, ... t^N \\right)^T$ and $Y = \\left( y^1, y^2, ... y^N \\right)^T$, where $N$ is the batch size. \n",
    "\n",
    "Also we take the data from a batch and put it into a $(d+1)\\times N$ matrix called $X$, with each image going into a column of $X$. \n",
    "\n",
    "The gradient is given by\n",
    "$$\n",
    "\\nabla_w E = \n",
    "\\begin{bmatrix}\n",
    "    \\frac{\\partial E^1}{\\partial w_1} +  \\cdots + \\frac{\\partial E^N}{\\partial w_1} \\\\\n",
    "    \\vdots \\\\\n",
    "    \\frac{\\partial E^1}{\\partial w_{d+1}} + \\cdots + \\frac{\\partial E^N}{\\partial w_{d+1}}\n",
    "\\end{bmatrix}\n",
    "=\n",
    "-\\begin{bmatrix}\n",
    "    x_1^1(t^1 - y^1) +  \\cdots + x_1^N(t^N - y^N) \\\\\n",
    "    \\vdots \\\\\n",
    "    x_{d+1}^1(t^1 - y^1) +  \\cdots + x_{d+1}^N(t^N - y^N) \n",
    "\\end{bmatrix}\n",
    "= - X (T - Y)\n",
    "$$\n",
    "\n",
    "##### Does the validation set work as a good stand-in for the test-set?\n",
    "The validation set solves the problem of data-snooping on the test set by taking a small portion of the training set and using it to evaluate the networks performance. If we can be sure that the validation set has many of the same properties as the test set, which is reasonable if the training set has many of the same properties as the test set, then it can function as a good stand in for the test set. \n",
    "\n"
   ]
  },
  {
   "cell_type": "markdown",
   "metadata": {},
   "source": [
    "#### b\n",
    "\n",
    "The plot below show the accuracy on the different sets and how they changed over time. As expected the training set has the highest accuracy. I would've expected the validation set to have the second highest and then the test set to have the lowest, but this is not what we see. From playing around with different ways of drawing from the MNIST dataset (taking the first, last, or a random sampling), this order seems to change from time to time, but most often it is like this. The test set is the last few thousand images from the MNIST dataset, which should be difficult, while the training and validation set is the first thousands of images, which should be easy. "
   ]
  },
  {
   "cell_type": "code",
   "execution_count": 54,
   "metadata": {},
   "outputs": [
    {
     "data": {
      "image/png": "[encoded data removed]",
      "text/plain": [
       "<Figure size 432x288 with 1 Axes>"
      ]
     },
     "metadata": {
      "needs_background": "light"
     },
     "output_type": "display_data"
    }
   ],
   "source": [
    "plt.plot(t, train_percentage_correct, label=\"Training Accuracy\")\n",
    "plt.plot(t, validate_percentage_correct, label=\"Validation Accuracy\")\n",
    "plt.plot(t, test_percentage_correct, label=\"Test Accuracy\")\n",
    "plt.ylabel(\"Accuracy\")\n",
    "plt.xlabel(\"Iteration\")\n",
    "plt.legend()\n",
    "plt.show()"
   ]
  },
  {
   "cell_type": "markdown",
   "metadata": {},
   "source": [
    "## Task 2.2: Regularization\n",
    "#### a\n",
    "\n",
    "For $L_2$ regularization, we can rewrite $C(w)$ as $C(w) = w^Tw$.\n",
    "Then it is clear that its gradient is given by\n",
    "$$\n",
    "    \\frac{\\partial C}{\\partial w} = 2 w\n",
    "$$\n",
    "\n",
    "With this form regularization, the update term for logistic regresion becomes\n",
    "$$\n",
    "    \\frac{\\partial J^n}{\\partial w_j} = -x^n (t^n - y^n) + \\lambda 2 w_j\n",
    "$$\n",
    "Vectorizing it, we have\n",
    "$$\n",
    "    \\frac{\\partial J}{\\partial w} = -X(T-Y) + \\lambda 2w\n",
    "$$\n",
    "\n",
    "#### b\n",
    "#### c\n",
    "#### d"
   ]
  },
  {
   "cell_type": "markdown",
   "metadata": {},
   "source": [
    "# Task 3\n",
    "#### a\n",
    "#### b\n",
    "#### c\n",
    "#### d"
   ]
  },
  {
   "cell_type": "markdown",
   "metadata": {},
   "source": [
    "# Task 4\n",
    "#### a\n",
    "#### b"
   ]
  },
  {
   "cell_type": "code",
   "execution_count": null,
   "metadata": {},
   "outputs": [],
   "source": []
  }
 ],
 "metadata": {
  "kernelspec": {
   "display_name": "Python 3",
   "language": "python",
   "name": "python3"
  },
  "language_info": {
   "codemirror_mode": {
    "name": "ipython",
    "version": 3
   },
   "file_extension": ".py",
   "mimetype": "text/x-python",
   "name": "python",
   "nbconvert_exporter": "python",
   "pygments_lexer": "ipython3",
   "version": "3.7.1"
  }
 },
 "nbformat": 4,
 "nbformat_minor": 2
}
