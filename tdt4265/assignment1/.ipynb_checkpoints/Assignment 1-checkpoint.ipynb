{
 "cells": [
  {
   "cell_type": "markdown",
   "metadata": {},
   "source": [
    "# Task 1"
   ]
  },
  {
   "cell_type": "markdown",
   "metadata": {},
   "source": [
    "## Task 1.1: Derive the gradient for Logistic Regression\n",
    "\n",
    "Using $E^n(w) = t^n \\ln(y^n) + (1 - t^n)\\ln(1 - y^n)$, we take it's derivative with respect to the $j$'th weight.\n",
    "$$\n",
    "\\frac{\\partial E^n}{\\partial w_j} = \\frac{\\partial}{\\partial w_j}\\left( t^n \\ln(y^n)\\right) \n",
    "    + \\frac{\\partial}{\\partial w_j}\\left( (1 - t^n) \\ln(1 - y^n) \\right) \\\\\n",
    "    = t^n\\frac{1}{y^n}\\frac{\\partial y^n}{\\partial w_j} + (1-t^n)\\frac{1}{1-y^n}\\frac{\\partial (1-y^n)}{\\partial w_j} \\\\\n",
    "    = t^n\\frac{1}{y^n}\\frac{\\partial y^n}{\\partial w_j} - (1-t^n)\\frac{1}{1-y^n}\\frac{\\partial y^n}{\\partial w_j}\n",
    "$$\n",
    "\n",
    "Rewriting the hint in the assignment\n",
    "$$\n",
    "\\frac{\\partial y^n}{\\partial w_j} = \\frac{\\partial g^n_w(x)}{\\partial w_j} = x^n_j g_w^n (1 - g^n_w) = x^n_j y^n (1 - y^n)\n",
    "$$\n",
    "\n",
    "Inserting this into the equation above gives\n",
    "$$\n",
    "\\frac{\\partial E^n}{\\partial w_j} \n",
    "= t^n\\frac{1}{y^n}\\frac{\\partial y^n}{\\partial w_j} - (1-t^n)\\frac{1}{1-y^n}\\frac{\\partial y^n}{\\partial w_j} \\\\\n",
    "= t^n\\frac{1}{y^n}x^n_j y^n (1 - y^n) - (1-t^n)\\frac{1}{1-y^n}x^n_j y^n (1 - y^n) \\\\\n",
    "= t^n x^n_j - t^n x^n_j y^n - x^n_j y^n +t^n x^n_j y^n \\\\\n",
    "= (t^n - y^n) x^n_j\n",
    "$$"
   ]
  },
  {
   "cell_type": "markdown",
   "metadata": {},
   "source": [
    "## Task 1.2: Derive the gradient for Softmax Regression"
   ]
  },
  {
   "cell_type": "markdown",
   "metadata": {},
   "source": [
    "# Task 2"
   ]
  },
  {
   "cell_type": "markdown",
   "metadata": {},
   "source": [
    "## Task 2.1: Logistic Regression through gradient descent"
   ]
  },
  {
   "cell_type": "markdown",
   "metadata": {},
   "source": [
    "#### Load data and Preprocessing"
   ]
  },
  {
   "cell_type": "code",
   "execution_count": 2,
   "metadata": {},
   "outputs": [
    {
     "name": "stdout",
     "output_type": "stream",
     "text": [
      "(10000, 785) (10000,)\n",
      "(2042, 785) (2042,)\n",
      "Label: 2\n"
     ]
    },
    {
     "data": {
      "image/png": "[encoded data removed]",
      "text/plain": [
       "<Figure size 432x288 with 1 Axes>"
      ]
     },
     "metadata": {
      "needs_background": "light"
     },
     "output_type": "display_data"
    }
   ],
   "source": [
    "import mnist\n",
    "import numpy as np\n",
    "import random\n",
    "import matplotlib.pyplot as plt\n",
    "%matplotlib inline\n",
    "\n",
    "import time\n",
    "\n",
    "try:\n",
    "    X_train, Y_train, X_test, Y_test = mnist.load()\n",
    "except FileNotFoundError:\n",
    "    mnist.init()\n",
    "    X_train, Y_train, X_test, Y_test = mnist.load()\n",
    "\n",
    "N_train = 10000\n",
    "\n",
    "def add_bias_term(X):\n",
    "    (n,d) = X.shape\n",
    "    return np.hstack( (X, np.ones((n,1)) ) )\n",
    "\n",
    "def category_filter(X, Y, yes, no):\n",
    "    assert yes != no\n",
    "    mask = np.any([[Y==yes],[Y==no]], axis=0)[0]\n",
    "    Y[Y==yes] = 1\n",
    "    Y[Y==no] = 0\n",
    "    \n",
    "    X = X[mask,...]\n",
    "    Y = Y[mask,...]\n",
    "    \n",
    "    trues = len([b for b in mask if b])\n",
    "    assert trues == len(X)\n",
    "    assert trues == len(Y)\n",
    "    return X,Y\n",
    "\n",
    "def do_preprocessing(X,Y,limit=None):\n",
    "    assert len(X) == len(Y)\n",
    "    X = add_bias_term(X)\n",
    "    X,Y = category_filter(X,Y,3,2)\n",
    "    if limit is not None:\n",
    "        limit = min(limit, len(X))\n",
    "        mask = random.sample(range(len(X)), limit)\n",
    "        X = X[mask]\n",
    "        Y = Y[mask]\n",
    "    \n",
    "    print(X.shape,Y.shape)\n",
    "    return X, Y\n",
    "\n",
    "X_train, Y_train = do_preprocessing(X_train,Y_train,limit=N_train)\n",
    "X_test, Y_test = do_preprocessing(X_test,Y_test)\n",
    "\n",
    "# manual check\n",
    "checkimage = np.reshape(X_train[0][:~0], (28,28))\n",
    "checklabel = 2 if Y_train[0]==0 else 3\n",
    "plt.imshow(checkimage)\n",
    "print(\"Label:\", checklabel)"
   ]
  },
  {
   "cell_type": "markdown",
   "metadata": {},
   "source": [
    "#### Training"
   ]
  },
  {
   "cell_type": "code",
   "execution_count": 6,
   "metadata": {},
   "outputs": [],
   "source": [
    "#weights = clsfy.logisticRegresion(X_train, Y_train, batch_size=100, learning_rate=1, training_steps=10)\n",
    "batch_size = 100\n",
    "\n",
    "def sigmoid(w,x):\n",
    "    return 1.0/(1 + np.exp(-np.dot(w,x)))\n",
    "\n",
    "def cross_entropy_loss(target, output):\n",
    "    assert target.shape == output.shape\n",
    "    N = len(target)\n",
    "    E = (np.dot(target,np.log(output)) + np.dot(1-target, np.log(1-Y)))/N\n",
    "    assert E >= 0\n",
    "    return E\n",
    "\n",
    "def logistic_regression_gradient(t, w, x):\n",
    "    y = sigmoid(w,x)\n",
    "    \n",
    "    \n",
    "    pass\n",
    "\n",
    "w_dim = X_train.shape[1]\n",
    "weights = np.zeros((w_dim,1))\n",
    "\n"
   ]
  },
  {
   "cell_type": "markdown",
   "metadata": {},
   "source": [
    "#### a\n",
    "#### b"
   ]
  },
  {
   "cell_type": "markdown",
   "metadata": {},
   "source": [
    "## Task 2.2: Regularization\n",
    "#### a\n",
    "#### b\n",
    "#### c\n",
    "#### d"
   ]
  },
  {
   "cell_type": "markdown",
   "metadata": {},
   "source": [
    "# Task 3\n",
    "#### a\n",
    "#### b\n",
    "#### c\n",
    "#### d"
   ]
  },
  {
   "cell_type": "markdown",
   "metadata": {},
   "source": [
    "# Task 4\n",
    "#### a\n",
    "#### b"
   ]
  }
 ],
 "metadata": {
  "kernelspec": {
   "display_name": "Python 3",
   "language": "python",
   "name": "python3"
  },
  "language_info": {
   "codemirror_mode": {
    "name": "ipython",
    "version": 3
   },
   "file_extension": ".py",
   "mimetype": "text/x-python",
   "name": "python",
   "nbconvert_exporter": "python",
   "pygments_lexer": "ipython3",
   "version": "3.7.1"
  }
 },
 "nbformat": 4,
 "nbformat_minor": 2
}
